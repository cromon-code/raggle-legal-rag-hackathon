{
  "cells": [
    {
      "cell_type": "markdown",
      "metadata": {
        "id": "xzXoQPL25XUW"
      },
      "source": [
        "## Base Code\n",
        "4. データの読み込み\n",
        "5. データのインデックス化\n",
        "6. 質問に対する類似情報の検索\n",
        "7. 回答の生成"
      ]
    },
    {
      "cell_type": "markdown",
      "metadata": {
        "id": "gJIoqXPc8buK"
      },
      "source": [
        "### Install Libraries"
      ]
    },
    {
      "cell_type": "code",
      "execution_count": 1,
      "metadata": {
        "colab": {
          "base_uri": "https://localhost:8080/"
        },
        "id": "DcbBOLHj8-Zt",
        "outputId": "33cc8bce-f9a0-4076-a554-07115b4c744f"
      },
      "outputs": [
        {
          "name": "stdout",
          "output_type": "stream",
          "text": [
            "Requirement already satisfied: pdfplumber in /usr/local/lib/python3.11/dist-packages (0.11.5)\n",
            "Requirement already satisfied: langchain in /usr/local/lib/python3.11/dist-packages (0.3.15)\n",
            "Requirement already satisfied: langchain-openai in /usr/local/lib/python3.11/dist-packages (0.3.1)\n",
            "Requirement already satisfied: langchain-chroma in /usr/local/lib/python3.11/dist-packages (0.2.0)\n",
            "Requirement already satisfied: langchain-community in /usr/local/lib/python3.11/dist-packages (0.3.15)\n",
            "Requirement already satisfied: pdfminer.six==20231228 in /usr/local/lib/python3.11/dist-packages (from pdfplumber) (20231228)\n",
            "Requirement already satisfied: Pillow>=9.1 in /usr/local/lib/python3.11/dist-packages (from pdfplumber) (11.1.0)\n",
            "Requirement already satisfied: pypdfium2>=4.18.0 in /usr/local/lib/python3.11/dist-packages (from pdfplumber) (4.30.1)\n",
            "Requirement already satisfied: charset-normalizer>=2.0.0 in /usr/local/lib/python3.11/dist-packages (from pdfminer.six==20231228->pdfplumber) (3.4.1)\n",
            "Requirement already satisfied: cryptography>=36.0.0 in /usr/local/lib/python3.11/dist-packages (from pdfminer.six==20231228->pdfplumber) (43.0.3)\n",
            "Requirement already satisfied: PyYAML>=5.3 in /usr/local/lib/python3.11/dist-packages (from langchain) (6.0.2)\n",
            "Requirement already satisfied: SQLAlchemy<3,>=1.4 in /usr/local/lib/python3.11/dist-packages (from langchain) (2.0.37)\n",
            "Requirement already satisfied: aiohttp<4.0.0,>=3.8.3 in /usr/local/lib/python3.11/dist-packages (from langchain) (3.11.11)\n",
            "Requirement already satisfied: langchain-core<0.4.0,>=0.3.31 in /usr/local/lib/python3.11/dist-packages (from langchain) (0.3.31)\n",
            "Requirement already satisfied: langchain-text-splitters<0.4.0,>=0.3.3 in /usr/local/lib/python3.11/dist-packages (from langchain) (0.3.5)\n",
            "Requirement already satisfied: langsmith<0.4,>=0.1.17 in /usr/local/lib/python3.11/dist-packages (from langchain) (0.2.10)\n",
            "Requirement already satisfied: numpy<2,>=1.22.4 in /usr/local/lib/python3.11/dist-packages (from langchain) (1.26.4)\n",
            "Requirement already satisfied: pydantic<3.0.0,>=2.7.4 in /usr/local/lib/python3.11/dist-packages (from langchain) (2.10.5)\n",
            "Requirement already satisfied: requests<3,>=2 in /usr/local/lib/python3.11/dist-packages (from langchain) (2.32.3)\n",
            "Requirement already satisfied: tenacity!=8.4.0,<10,>=8.1.0 in /usr/local/lib/python3.11/dist-packages (from langchain) (9.0.0)\n",
            "Requirement already satisfied: openai<2.0.0,>=1.58.1 in /usr/local/lib/python3.11/dist-packages (from langchain-openai) (1.59.6)\n",
            "Requirement already satisfied: tiktoken<1,>=0.7 in /usr/local/lib/python3.11/dist-packages (from langchain-openai) (0.8.0)\n",
            "Requirement already satisfied: chromadb!=0.5.10,!=0.5.11,!=0.5.12,!=0.5.4,!=0.5.5,!=0.5.7,!=0.5.9,<0.6.0,>=0.4.0 in /usr/local/lib/python3.11/dist-packages (from langchain-chroma) (0.5.23)\n",
            "Requirement already satisfied: fastapi<1,>=0.95.2 in /usr/local/lib/python3.11/dist-packages (from langchain-chroma) (0.115.7)\n",
            "Requirement already satisfied: dataclasses-json<0.7,>=0.5.7 in /usr/local/lib/python3.11/dist-packages (from langchain-community) (0.6.7)\n",
            "Requirement already satisfied: httpx-sse<0.5.0,>=0.4.0 in /usr/local/lib/python3.11/dist-packages (from langchain-community) (0.4.0)\n",
            "Requirement already satisfied: pydantic-settings<3.0.0,>=2.4.0 in /usr/local/lib/python3.11/dist-packages (from langchain-community) (2.7.1)\n",
            "Requirement already satisfied: aiohappyeyeballs>=2.3.0 in /usr/local/lib/python3.11/dist-packages (from aiohttp<4.0.0,>=3.8.3->langchain) (2.4.4)\n",
            "Requirement already satisfied: aiosignal>=1.1.2 in /usr/local/lib/python3.11/dist-packages (from aiohttp<4.0.0,>=3.8.3->langchain) (1.3.2)\n",
            "Requirement already satisfied: attrs>=17.3.0 in /usr/local/lib/python3.11/dist-packages (from aiohttp<4.0.0,>=3.8.3->langchain) (24.3.0)\n",
            "Requirement already satisfied: frozenlist>=1.1.1 in /usr/local/lib/python3.11/dist-packages (from aiohttp<4.0.0,>=3.8.3->langchain) (1.5.0)\n",
            "Requirement already satisfied: multidict<7.0,>=4.5 in /usr/local/lib/python3.11/dist-packages (from aiohttp<4.0.0,>=3.8.3->langchain) (6.1.0)\n",
            "Requirement already satisfied: propcache>=0.2.0 in /usr/local/lib/python3.11/dist-packages (from aiohttp<4.0.0,>=3.8.3->langchain) (0.2.1)\n",
            "Requirement already satisfied: yarl<2.0,>=1.17.0 in /usr/local/lib/python3.11/dist-packages (from aiohttp<4.0.0,>=3.8.3->langchain) (1.18.3)\n",
            "Requirement already satisfied: build>=1.0.3 in /usr/local/lib/python3.11/dist-packages (from chromadb!=0.5.10,!=0.5.11,!=0.5.12,!=0.5.4,!=0.5.5,!=0.5.7,!=0.5.9,<0.6.0,>=0.4.0->langchain-chroma) (1.2.2.post1)\n",
            "Requirement already satisfied: chroma-hnswlib==0.7.6 in /usr/local/lib/python3.11/dist-packages (from chromadb!=0.5.10,!=0.5.11,!=0.5.12,!=0.5.4,!=0.5.5,!=0.5.7,!=0.5.9,<0.6.0,>=0.4.0->langchain-chroma) (0.7.6)\n",
            "Requirement already satisfied: uvicorn>=0.18.3 in /usr/local/lib/python3.11/dist-packages (from uvicorn[standard]>=0.18.3->chromadb!=0.5.10,!=0.5.11,!=0.5.12,!=0.5.4,!=0.5.5,!=0.5.7,!=0.5.9,<0.6.0,>=0.4.0->langchain-chroma) (0.34.0)\n",
            "Requirement already satisfied: posthog>=2.4.0 in /usr/local/lib/python3.11/dist-packages (from chromadb!=0.5.10,!=0.5.11,!=0.5.12,!=0.5.4,!=0.5.5,!=0.5.7,!=0.5.9,<0.6.0,>=0.4.0->langchain-chroma) (3.9.2)\n",
            "Requirement already satisfied: typing_extensions>=4.5.0 in /usr/local/lib/python3.11/dist-packages (from chromadb!=0.5.10,!=0.5.11,!=0.5.12,!=0.5.4,!=0.5.5,!=0.5.7,!=0.5.9,<0.6.0,>=0.4.0->langchain-chroma) (4.12.2)\n",
            "Requirement already satisfied: onnxruntime>=1.14.1 in /usr/local/lib/python3.11/dist-packages (from chromadb!=0.5.10,!=0.5.11,!=0.5.12,!=0.5.4,!=0.5.5,!=0.5.7,!=0.5.9,<0.6.0,>=0.4.0->langchain-chroma) (1.20.1)\n",
            "Requirement already satisfied: opentelemetry-api>=1.2.0 in /usr/local/lib/python3.11/dist-packages (from chromadb!=0.5.10,!=0.5.11,!=0.5.12,!=0.5.4,!=0.5.5,!=0.5.7,!=0.5.9,<0.6.0,>=0.4.0->langchain-chroma) (1.29.0)\n",
            "Requirement already satisfied: opentelemetry-exporter-otlp-proto-grpc>=1.2.0 in /usr/local/lib/python3.11/dist-packages (from chromadb!=0.5.10,!=0.5.11,!=0.5.12,!=0.5.4,!=0.5.5,!=0.5.7,!=0.5.9,<0.6.0,>=0.4.0->langchain-chroma) (1.29.0)\n",
            "Requirement already satisfied: opentelemetry-instrumentation-fastapi>=0.41b0 in /usr/local/lib/python3.11/dist-packages (from chromadb!=0.5.10,!=0.5.11,!=0.5.12,!=0.5.4,!=0.5.5,!=0.5.7,!=0.5.9,<0.6.0,>=0.4.0->langchain-chroma) (0.50b0)\n",
            "Requirement already satisfied: opentelemetry-sdk>=1.2.0 in /usr/local/lib/python3.11/dist-packages (from chromadb!=0.5.10,!=0.5.11,!=0.5.12,!=0.5.4,!=0.5.5,!=0.5.7,!=0.5.9,<0.6.0,>=0.4.0->langchain-chroma) (1.29.0)\n",
            "Requirement already satisfied: tokenizers<=0.20.3,>=0.13.2 in /usr/local/lib/python3.11/dist-packages (from chromadb!=0.5.10,!=0.5.11,!=0.5.12,!=0.5.4,!=0.5.5,!=0.5.7,!=0.5.9,<0.6.0,>=0.4.0->langchain-chroma) (0.20.3)\n",
            "Requirement already satisfied: pypika>=0.48.9 in /usr/local/lib/python3.11/dist-packages (from chromadb!=0.5.10,!=0.5.11,!=0.5.12,!=0.5.4,!=0.5.5,!=0.5.7,!=0.5.9,<0.6.0,>=0.4.0->langchain-chroma) (0.48.9)\n",
            "Requirement already satisfied: tqdm>=4.65.0 in /usr/local/lib/python3.11/dist-packages (from chromadb!=0.5.10,!=0.5.11,!=0.5.12,!=0.5.4,!=0.5.5,!=0.5.7,!=0.5.9,<0.6.0,>=0.4.0->langchain-chroma) (4.67.1)\n",
            "Requirement already satisfied: overrides>=7.3.1 in /usr/local/lib/python3.11/dist-packages (from chromadb!=0.5.10,!=0.5.11,!=0.5.12,!=0.5.4,!=0.5.5,!=0.5.7,!=0.5.9,<0.6.0,>=0.4.0->langchain-chroma) (7.7.0)\n",
            "Requirement already satisfied: importlib-resources in /usr/local/lib/python3.11/dist-packages (from chromadb!=0.5.10,!=0.5.11,!=0.5.12,!=0.5.4,!=0.5.5,!=0.5.7,!=0.5.9,<0.6.0,>=0.4.0->langchain-chroma) (6.5.2)\n",
            "Requirement already satisfied: grpcio>=1.58.0 in /usr/local/lib/python3.11/dist-packages (from chromadb!=0.5.10,!=0.5.11,!=0.5.12,!=0.5.4,!=0.5.5,!=0.5.7,!=0.5.9,<0.6.0,>=0.4.0->langchain-chroma) (1.69.0)\n",
            "Requirement already satisfied: bcrypt>=4.0.1 in /usr/local/lib/python3.11/dist-packages (from chromadb!=0.5.10,!=0.5.11,!=0.5.12,!=0.5.4,!=0.5.5,!=0.5.7,!=0.5.9,<0.6.0,>=0.4.0->langchain-chroma) (4.2.1)\n",
            "Requirement already satisfied: typer>=0.9.0 in /usr/local/lib/python3.11/dist-packages (from chromadb!=0.5.10,!=0.5.11,!=0.5.12,!=0.5.4,!=0.5.5,!=0.5.7,!=0.5.9,<0.6.0,>=0.4.0->langchain-chroma) (0.15.1)\n",
            "Requirement already satisfied: kubernetes>=28.1.0 in /usr/local/lib/python3.11/dist-packages (from chromadb!=0.5.10,!=0.5.11,!=0.5.12,!=0.5.4,!=0.5.5,!=0.5.7,!=0.5.9,<0.6.0,>=0.4.0->langchain-chroma) (31.0.0)\n",
            "Requirement already satisfied: mmh3>=4.0.1 in /usr/local/lib/python3.11/dist-packages (from chromadb!=0.5.10,!=0.5.11,!=0.5.12,!=0.5.4,!=0.5.5,!=0.5.7,!=0.5.9,<0.6.0,>=0.4.0->langchain-chroma) (5.0.1)\n",
            "Requirement already satisfied: orjson>=3.9.12 in /usr/local/lib/python3.11/dist-packages (from chromadb!=0.5.10,!=0.5.11,!=0.5.12,!=0.5.4,!=0.5.5,!=0.5.7,!=0.5.9,<0.6.0,>=0.4.0->langchain-chroma) (3.10.14)\n",
            "Requirement already satisfied: httpx>=0.27.0 in /usr/local/lib/python3.11/dist-packages (from chromadb!=0.5.10,!=0.5.11,!=0.5.12,!=0.5.4,!=0.5.5,!=0.5.7,!=0.5.9,<0.6.0,>=0.4.0->langchain-chroma) (0.28.1)\n",
            "Requirement already satisfied: rich>=10.11.0 in /usr/local/lib/python3.11/dist-packages (from chromadb!=0.5.10,!=0.5.11,!=0.5.12,!=0.5.4,!=0.5.5,!=0.5.7,!=0.5.9,<0.6.0,>=0.4.0->langchain-chroma) (13.9.4)\n",
            "Requirement already satisfied: marshmallow<4.0.0,>=3.18.0 in /usr/local/lib/python3.11/dist-packages (from dataclasses-json<0.7,>=0.5.7->langchain-community) (3.26.0)\n",
            "Requirement already satisfied: typing-inspect<1,>=0.4.0 in /usr/local/lib/python3.11/dist-packages (from dataclasses-json<0.7,>=0.5.7->langchain-community) (0.9.0)\n",
            "Requirement already satisfied: starlette<0.46.0,>=0.40.0 in /usr/local/lib/python3.11/dist-packages (from fastapi<1,>=0.95.2->langchain-chroma) (0.45.2)\n",
            "Requirement already satisfied: jsonpatch<2.0,>=1.33 in /usr/local/lib/python3.11/dist-packages (from langchain-core<0.4.0,>=0.3.31->langchain) (1.33)\n",
            "Requirement already satisfied: packaging<25,>=23.2 in /usr/local/lib/python3.11/dist-packages (from langchain-core<0.4.0,>=0.3.31->langchain) (24.2)\n",
            "Requirement already satisfied: requests-toolbelt<2.0.0,>=1.0.0 in /usr/local/lib/python3.11/dist-packages (from langsmith<0.4,>=0.1.17->langchain) (1.0.0)\n",
            "Requirement already satisfied: anyio<5,>=3.5.0 in /usr/local/lib/python3.11/dist-packages (from openai<2.0.0,>=1.58.1->langchain-openai) (3.7.1)\n",
            "Requirement already satisfied: distro<2,>=1.7.0 in /usr/local/lib/python3.11/dist-packages (from openai<2.0.0,>=1.58.1->langchain-openai) (1.9.0)\n",
            "Requirement already satisfied: jiter<1,>=0.4.0 in /usr/local/lib/python3.11/dist-packages (from openai<2.0.0,>=1.58.1->langchain-openai) (0.8.2)\n",
            "Requirement already satisfied: sniffio in /usr/local/lib/python3.11/dist-packages (from openai<2.0.0,>=1.58.1->langchain-openai) (1.3.1)\n",
            "Requirement already satisfied: annotated-types>=0.6.0 in /usr/local/lib/python3.11/dist-packages (from pydantic<3.0.0,>=2.7.4->langchain) (0.7.0)\n",
            "Requirement already satisfied: pydantic-core==2.27.2 in /usr/local/lib/python3.11/dist-packages (from pydantic<3.0.0,>=2.7.4->langchain) (2.27.2)\n",
            "Requirement already satisfied: python-dotenv>=0.21.0 in /usr/local/lib/python3.11/dist-packages (from pydantic-settings<3.0.0,>=2.4.0->langchain-community) (1.0.1)\n",
            "Requirement already satisfied: idna<4,>=2.5 in /usr/local/lib/python3.11/dist-packages (from requests<3,>=2->langchain) (3.10)\n",
            "Requirement already satisfied: urllib3<3,>=1.21.1 in /usr/local/lib/python3.11/dist-packages (from requests<3,>=2->langchain) (2.3.0)\n",
            "Requirement already satisfied: certifi>=2017.4.17 in /usr/local/lib/python3.11/dist-packages (from requests<3,>=2->langchain) (2024.12.14)\n",
            "Requirement already satisfied: greenlet!=0.4.17 in /usr/local/lib/python3.11/dist-packages (from SQLAlchemy<3,>=1.4->langchain) (3.1.1)\n",
            "Requirement already satisfied: regex>=2022.1.18 in /usr/local/lib/python3.11/dist-packages (from tiktoken<1,>=0.7->langchain-openai) (2024.11.6)\n",
            "Requirement already satisfied: pyproject_hooks in /usr/local/lib/python3.11/dist-packages (from build>=1.0.3->chromadb!=0.5.10,!=0.5.11,!=0.5.12,!=0.5.4,!=0.5.5,!=0.5.7,!=0.5.9,<0.6.0,>=0.4.0->langchain-chroma) (1.2.0)\n",
            "Requirement already satisfied: cffi>=1.12 in /usr/local/lib/python3.11/dist-packages (from cryptography>=36.0.0->pdfminer.six==20231228->pdfplumber) (1.17.1)\n",
            "Requirement already satisfied: httpcore==1.* in /usr/local/lib/python3.11/dist-packages (from httpx>=0.27.0->chromadb!=0.5.10,!=0.5.11,!=0.5.12,!=0.5.4,!=0.5.5,!=0.5.7,!=0.5.9,<0.6.0,>=0.4.0->langchain-chroma) (1.0.7)\n",
            "Requirement already satisfied: h11<0.15,>=0.13 in /usr/local/lib/python3.11/dist-packages (from httpcore==1.*->httpx>=0.27.0->chromadb!=0.5.10,!=0.5.11,!=0.5.12,!=0.5.4,!=0.5.5,!=0.5.7,!=0.5.9,<0.6.0,>=0.4.0->langchain-chroma) (0.14.0)\n",
            "Requirement already satisfied: jsonpointer>=1.9 in /usr/local/lib/python3.11/dist-packages (from jsonpatch<2.0,>=1.33->langchain-core<0.4.0,>=0.3.31->langchain) (3.0.0)\n",
            "Requirement already satisfied: six>=1.9.0 in /usr/local/lib/python3.11/dist-packages (from kubernetes>=28.1.0->chromadb!=0.5.10,!=0.5.11,!=0.5.12,!=0.5.4,!=0.5.5,!=0.5.7,!=0.5.9,<0.6.0,>=0.4.0->langchain-chroma) (1.17.0)\n",
            "Requirement already satisfied: python-dateutil>=2.5.3 in /usr/local/lib/python3.11/dist-packages (from kubernetes>=28.1.0->chromadb!=0.5.10,!=0.5.11,!=0.5.12,!=0.5.4,!=0.5.5,!=0.5.7,!=0.5.9,<0.6.0,>=0.4.0->langchain-chroma) (2.8.2)\n",
            "Requirement already satisfied: google-auth>=1.0.1 in /usr/local/lib/python3.11/dist-packages (from kubernetes>=28.1.0->chromadb!=0.5.10,!=0.5.11,!=0.5.12,!=0.5.4,!=0.5.5,!=0.5.7,!=0.5.9,<0.6.0,>=0.4.0->langchain-chroma) (2.27.0)\n",
            "Requirement already satisfied: websocket-client!=0.40.0,!=0.41.*,!=0.42.*,>=0.32.0 in /usr/local/lib/python3.11/dist-packages (from kubernetes>=28.1.0->chromadb!=0.5.10,!=0.5.11,!=0.5.12,!=0.5.4,!=0.5.5,!=0.5.7,!=0.5.9,<0.6.0,>=0.4.0->langchain-chroma) (1.8.0)\n",
            "Requirement already satisfied: requests-oauthlib in /usr/local/lib/python3.11/dist-packages (from kubernetes>=28.1.0->chromadb!=0.5.10,!=0.5.11,!=0.5.12,!=0.5.4,!=0.5.5,!=0.5.7,!=0.5.9,<0.6.0,>=0.4.0->langchain-chroma) (1.3.1)\n",
            "Requirement already satisfied: oauthlib>=3.2.2 in /usr/local/lib/python3.11/dist-packages (from kubernetes>=28.1.0->chromadb!=0.5.10,!=0.5.11,!=0.5.12,!=0.5.4,!=0.5.5,!=0.5.7,!=0.5.9,<0.6.0,>=0.4.0->langchain-chroma) (3.2.2)\n",
            "Requirement already satisfied: durationpy>=0.7 in /usr/local/lib/python3.11/dist-packages (from kubernetes>=28.1.0->chromadb!=0.5.10,!=0.5.11,!=0.5.12,!=0.5.4,!=0.5.5,!=0.5.7,!=0.5.9,<0.6.0,>=0.4.0->langchain-chroma) (0.9)\n",
            "Requirement already satisfied: coloredlogs in /usr/local/lib/python3.11/dist-packages (from onnxruntime>=1.14.1->chromadb!=0.5.10,!=0.5.11,!=0.5.12,!=0.5.4,!=0.5.5,!=0.5.7,!=0.5.9,<0.6.0,>=0.4.0->langchain-chroma) (15.0.1)\n",
            "Requirement already satisfied: flatbuffers in /usr/local/lib/python3.11/dist-packages (from onnxruntime>=1.14.1->chromadb!=0.5.10,!=0.5.11,!=0.5.12,!=0.5.4,!=0.5.5,!=0.5.7,!=0.5.9,<0.6.0,>=0.4.0->langchain-chroma) (24.12.23)\n",
            "Requirement already satisfied: protobuf in /usr/local/lib/python3.11/dist-packages (from onnxruntime>=1.14.1->chromadb!=0.5.10,!=0.5.11,!=0.5.12,!=0.5.4,!=0.5.5,!=0.5.7,!=0.5.9,<0.6.0,>=0.4.0->langchain-chroma) (5.29.3)\n",
            "Requirement already satisfied: sympy in /usr/local/lib/python3.11/dist-packages (from onnxruntime>=1.14.1->chromadb!=0.5.10,!=0.5.11,!=0.5.12,!=0.5.4,!=0.5.5,!=0.5.7,!=0.5.9,<0.6.0,>=0.4.0->langchain-chroma) (1.13.1)\n",
            "Requirement already satisfied: deprecated>=1.2.6 in /usr/local/lib/python3.11/dist-packages (from opentelemetry-api>=1.2.0->chromadb!=0.5.10,!=0.5.11,!=0.5.12,!=0.5.4,!=0.5.5,!=0.5.7,!=0.5.9,<0.6.0,>=0.4.0->langchain-chroma) (1.2.15)\n",
            "Requirement already satisfied: importlib-metadata<=8.5.0,>=6.0 in /usr/local/lib/python3.11/dist-packages (from opentelemetry-api>=1.2.0->chromadb!=0.5.10,!=0.5.11,!=0.5.12,!=0.5.4,!=0.5.5,!=0.5.7,!=0.5.9,<0.6.0,>=0.4.0->langchain-chroma) (8.5.0)\n",
            "Requirement already satisfied: googleapis-common-protos~=1.52 in /usr/local/lib/python3.11/dist-packages (from opentelemetry-exporter-otlp-proto-grpc>=1.2.0->chromadb!=0.5.10,!=0.5.11,!=0.5.12,!=0.5.4,!=0.5.5,!=0.5.7,!=0.5.9,<0.6.0,>=0.4.0->langchain-chroma) (1.66.0)\n",
            "Requirement already satisfied: opentelemetry-exporter-otlp-proto-common==1.29.0 in /usr/local/lib/python3.11/dist-packages (from opentelemetry-exporter-otlp-proto-grpc>=1.2.0->chromadb!=0.5.10,!=0.5.11,!=0.5.12,!=0.5.4,!=0.5.5,!=0.5.7,!=0.5.9,<0.6.0,>=0.4.0->langchain-chroma) (1.29.0)\n",
            "Requirement already satisfied: opentelemetry-proto==1.29.0 in /usr/local/lib/python3.11/dist-packages (from opentelemetry-exporter-otlp-proto-grpc>=1.2.0->chromadb!=0.5.10,!=0.5.11,!=0.5.12,!=0.5.4,!=0.5.5,!=0.5.7,!=0.5.9,<0.6.0,>=0.4.0->langchain-chroma) (1.29.0)\n",
            "Requirement already satisfied: opentelemetry-instrumentation-asgi==0.50b0 in /usr/local/lib/python3.11/dist-packages (from opentelemetry-instrumentation-fastapi>=0.41b0->chromadb!=0.5.10,!=0.5.11,!=0.5.12,!=0.5.4,!=0.5.5,!=0.5.7,!=0.5.9,<0.6.0,>=0.4.0->langchain-chroma) (0.50b0)\n",
            "Requirement already satisfied: opentelemetry-instrumentation==0.50b0 in /usr/local/lib/python3.11/dist-packages (from opentelemetry-instrumentation-fastapi>=0.41b0->chromadb!=0.5.10,!=0.5.11,!=0.5.12,!=0.5.4,!=0.5.5,!=0.5.7,!=0.5.9,<0.6.0,>=0.4.0->langchain-chroma) (0.50b0)\n",
            "Requirement already satisfied: opentelemetry-semantic-conventions==0.50b0 in /usr/local/lib/python3.11/dist-packages (from opentelemetry-instrumentation-fastapi>=0.41b0->chromadb!=0.5.10,!=0.5.11,!=0.5.12,!=0.5.4,!=0.5.5,!=0.5.7,!=0.5.9,<0.6.0,>=0.4.0->langchain-chroma) (0.50b0)\n",
            "Requirement already satisfied: opentelemetry-util-http==0.50b0 in /usr/local/lib/python3.11/dist-packages (from opentelemetry-instrumentation-fastapi>=0.41b0->chromadb!=0.5.10,!=0.5.11,!=0.5.12,!=0.5.4,!=0.5.5,!=0.5.7,!=0.5.9,<0.6.0,>=0.4.0->langchain-chroma) (0.50b0)\n",
            "Requirement already satisfied: wrapt<2.0.0,>=1.0.0 in /usr/local/lib/python3.11/dist-packages (from opentelemetry-instrumentation==0.50b0->opentelemetry-instrumentation-fastapi>=0.41b0->chromadb!=0.5.10,!=0.5.11,!=0.5.12,!=0.5.4,!=0.5.5,!=0.5.7,!=0.5.9,<0.6.0,>=0.4.0->langchain-chroma) (1.17.0)\n",
            "Requirement already satisfied: asgiref~=3.0 in /usr/local/lib/python3.11/dist-packages (from opentelemetry-instrumentation-asgi==0.50b0->opentelemetry-instrumentation-fastapi>=0.41b0->chromadb!=0.5.10,!=0.5.11,!=0.5.12,!=0.5.4,!=0.5.5,!=0.5.7,!=0.5.9,<0.6.0,>=0.4.0->langchain-chroma) (3.8.1)\n",
            "Requirement already satisfied: monotonic>=1.5 in /usr/local/lib/python3.11/dist-packages (from posthog>=2.4.0->chromadb!=0.5.10,!=0.5.11,!=0.5.12,!=0.5.4,!=0.5.5,!=0.5.7,!=0.5.9,<0.6.0,>=0.4.0->langchain-chroma) (1.6)\n",
            "Requirement already satisfied: backoff>=1.10.0 in /usr/local/lib/python3.11/dist-packages (from posthog>=2.4.0->chromadb!=0.5.10,!=0.5.11,!=0.5.12,!=0.5.4,!=0.5.5,!=0.5.7,!=0.5.9,<0.6.0,>=0.4.0->langchain-chroma) (2.2.1)\n",
            "Requirement already satisfied: markdown-it-py>=2.2.0 in /usr/local/lib/python3.11/dist-packages (from rich>=10.11.0->chromadb!=0.5.10,!=0.5.11,!=0.5.12,!=0.5.4,!=0.5.5,!=0.5.7,!=0.5.9,<0.6.0,>=0.4.0->langchain-chroma) (3.0.0)\n",
            "Requirement already satisfied: pygments<3.0.0,>=2.13.0 in /usr/local/lib/python3.11/dist-packages (from rich>=10.11.0->chromadb!=0.5.10,!=0.5.11,!=0.5.12,!=0.5.4,!=0.5.5,!=0.5.7,!=0.5.9,<0.6.0,>=0.4.0->langchain-chroma) (2.18.0)\n",
            "Requirement already satisfied: huggingface-hub<1.0,>=0.16.4 in /usr/local/lib/python3.11/dist-packages (from tokenizers<=0.20.3,>=0.13.2->chromadb!=0.5.10,!=0.5.11,!=0.5.12,!=0.5.4,!=0.5.5,!=0.5.7,!=0.5.9,<0.6.0,>=0.4.0->langchain-chroma) (0.27.1)\n",
            "Requirement already satisfied: click>=8.0.0 in /usr/local/lib/python3.11/dist-packages (from typer>=0.9.0->chromadb!=0.5.10,!=0.5.11,!=0.5.12,!=0.5.4,!=0.5.5,!=0.5.7,!=0.5.9,<0.6.0,>=0.4.0->langchain-chroma) (8.1.8)\n",
            "Requirement already satisfied: shellingham>=1.3.0 in /usr/local/lib/python3.11/dist-packages (from typer>=0.9.0->chromadb!=0.5.10,!=0.5.11,!=0.5.12,!=0.5.4,!=0.5.5,!=0.5.7,!=0.5.9,<0.6.0,>=0.4.0->langchain-chroma) (1.5.4)\n",
            "Requirement already satisfied: mypy-extensions>=0.3.0 in /usr/local/lib/python3.11/dist-packages (from typing-inspect<1,>=0.4.0->dataclasses-json<0.7,>=0.5.7->langchain-community) (1.0.0)\n",
            "Requirement already satisfied: httptools>=0.6.3 in /usr/local/lib/python3.11/dist-packages (from uvicorn[standard]>=0.18.3->chromadb!=0.5.10,!=0.5.11,!=0.5.12,!=0.5.4,!=0.5.5,!=0.5.7,!=0.5.9,<0.6.0,>=0.4.0->langchain-chroma) (0.6.4)\n",
            "Requirement already satisfied: uvloop!=0.15.0,!=0.15.1,>=0.14.0 in /usr/local/lib/python3.11/dist-packages (from uvicorn[standard]>=0.18.3->chromadb!=0.5.10,!=0.5.11,!=0.5.12,!=0.5.4,!=0.5.5,!=0.5.7,!=0.5.9,<0.6.0,>=0.4.0->langchain-chroma) (0.21.0)\n",
            "Requirement already satisfied: watchfiles>=0.13 in /usr/local/lib/python3.11/dist-packages (from uvicorn[standard]>=0.18.3->chromadb!=0.5.10,!=0.5.11,!=0.5.12,!=0.5.4,!=0.5.5,!=0.5.7,!=0.5.9,<0.6.0,>=0.4.0->langchain-chroma) (1.0.4)\n",
            "Requirement already satisfied: websockets>=10.4 in /usr/local/lib/python3.11/dist-packages (from uvicorn[standard]>=0.18.3->chromadb!=0.5.10,!=0.5.11,!=0.5.12,!=0.5.4,!=0.5.5,!=0.5.7,!=0.5.9,<0.6.0,>=0.4.0->langchain-chroma) (14.1)\n",
            "Requirement already satisfied: pycparser in /usr/local/lib/python3.11/dist-packages (from cffi>=1.12->cryptography>=36.0.0->pdfminer.six==20231228->pdfplumber) (2.22)\n",
            "Requirement already satisfied: cachetools<6.0,>=2.0.0 in /usr/local/lib/python3.11/dist-packages (from google-auth>=1.0.1->kubernetes>=28.1.0->chromadb!=0.5.10,!=0.5.11,!=0.5.12,!=0.5.4,!=0.5.5,!=0.5.7,!=0.5.9,<0.6.0,>=0.4.0->langchain-chroma) (5.5.0)\n",
            "Requirement already satisfied: pyasn1-modules>=0.2.1 in /usr/local/lib/python3.11/dist-packages (from google-auth>=1.0.1->kubernetes>=28.1.0->chromadb!=0.5.10,!=0.5.11,!=0.5.12,!=0.5.4,!=0.5.5,!=0.5.7,!=0.5.9,<0.6.0,>=0.4.0->langchain-chroma) (0.4.1)\n",
            "Requirement already satisfied: rsa<5,>=3.1.4 in /usr/local/lib/python3.11/dist-packages (from google-auth>=1.0.1->kubernetes>=28.1.0->chromadb!=0.5.10,!=0.5.11,!=0.5.12,!=0.5.4,!=0.5.5,!=0.5.7,!=0.5.9,<0.6.0,>=0.4.0->langchain-chroma) (4.9)\n",
            "Requirement already satisfied: filelock in /usr/local/lib/python3.11/dist-packages (from huggingface-hub<1.0,>=0.16.4->tokenizers<=0.20.3,>=0.13.2->chromadb!=0.5.10,!=0.5.11,!=0.5.12,!=0.5.4,!=0.5.5,!=0.5.7,!=0.5.9,<0.6.0,>=0.4.0->langchain-chroma) (3.16.1)\n",
            "Requirement already satisfied: fsspec>=2023.5.0 in /usr/local/lib/python3.11/dist-packages (from huggingface-hub<1.0,>=0.16.4->tokenizers<=0.20.3,>=0.13.2->chromadb!=0.5.10,!=0.5.11,!=0.5.12,!=0.5.4,!=0.5.5,!=0.5.7,!=0.5.9,<0.6.0,>=0.4.0->langchain-chroma) (2024.10.0)\n",
            "Requirement already satisfied: zipp>=3.20 in /usr/local/lib/python3.11/dist-packages (from importlib-metadata<=8.5.0,>=6.0->opentelemetry-api>=1.2.0->chromadb!=0.5.10,!=0.5.11,!=0.5.12,!=0.5.4,!=0.5.5,!=0.5.7,!=0.5.9,<0.6.0,>=0.4.0->langchain-chroma) (3.21.0)\n",
            "Requirement already satisfied: mdurl~=0.1 in /usr/local/lib/python3.11/dist-packages (from markdown-it-py>=2.2.0->rich>=10.11.0->chromadb!=0.5.10,!=0.5.11,!=0.5.12,!=0.5.4,!=0.5.5,!=0.5.7,!=0.5.9,<0.6.0,>=0.4.0->langchain-chroma) (0.1.2)\n",
            "Requirement already satisfied: humanfriendly>=9.1 in /usr/local/lib/python3.11/dist-packages (from coloredlogs->onnxruntime>=1.14.1->chromadb!=0.5.10,!=0.5.11,!=0.5.12,!=0.5.4,!=0.5.5,!=0.5.7,!=0.5.9,<0.6.0,>=0.4.0->langchain-chroma) (10.0)\n",
            "Requirement already satisfied: mpmath<1.4,>=1.1.0 in /usr/local/lib/python3.11/dist-packages (from sympy->onnxruntime>=1.14.1->chromadb!=0.5.10,!=0.5.11,!=0.5.12,!=0.5.4,!=0.5.5,!=0.5.7,!=0.5.9,<0.6.0,>=0.4.0->langchain-chroma) (1.3.0)\n",
            "Requirement already satisfied: pyasn1<0.7.0,>=0.4.6 in /usr/local/lib/python3.11/dist-packages (from pyasn1-modules>=0.2.1->google-auth>=1.0.1->kubernetes>=28.1.0->chromadb!=0.5.10,!=0.5.11,!=0.5.12,!=0.5.4,!=0.5.5,!=0.5.7,!=0.5.9,<0.6.0,>=0.4.0->langchain-chroma) (0.6.1)\n"
          ]
        }
      ],
      "source": [
        "!pip install pdfplumber langchain langchain-openai langchain-chroma langchain-community"
      ]
    },
    {
      "cell_type": "markdown",
      "metadata": {},
      "source": [
        "### Import Libraries"
      ]
    },
    {
      "cell_type": "code",
      "execution_count": 2,
      "metadata": {
        "id": "bFgD7C__8bPB"
      },
      "outputs": [],
      "source": [
        "import requests\n",
        "import pdfplumber\n",
        "\n",
        "from langchain.schema import Document\n",
        "from langchain_text_splitters import CharacterTextSplitter\n",
        "from langchain_chroma import Chroma\n",
        "from langchain_core.prompts import ChatPromptTemplate\n",
        "from langchain_core.output_parsers import StrOutputParser\n",
        "from langchain_core.runnables import RunnableParallel, RunnablePassthrough\n",
        "\n",
        "from langchain_openai import ChatOpenAI, OpenAIEmbeddings"
      ]
    },
    {
      "cell_type": "markdown",
      "metadata": {
        "id": "Se6QSytU5XUZ"
      },
      "source": [
        "### Parameters\n",
        "```python\n",
        "pdf_file_urls: list\n",
        "model: str\n",
        "sample_questions: str\n",
        "```"
      ]
    },
    {
      "cell_type": "code",
      "execution_count": 3,
      "metadata": {
        "id": "IB8a0SCq5XUZ"
      },
      "outputs": [],
      "source": [
        "model = \"gpt-4o-mini\"\n",
        "pdf_file_urls = [\n",
        "    \"https://storage.googleapis.com/gg-raggle-public/competitions/29676d73-5675-4278-b1a6-d4a9fdd0a0ba/dataset/Architectural_Design_Service_Contract.pdf\",\n",
        "    \"https://storage.googleapis.com/gg-raggle-public/competitions/29676d73-5675-4278-b1a6-d4a9fdd0a0ba/dataset/Call_Center_Operation_Service_Contract.pdf\",\n",
        "    \"https://storage.googleapis.com/gg-raggle-public/competitions/29676d73-5675-4278-b1a6-d4a9fdd0a0ba/dataset/Consulting_Service_Contract.pdf\",\n",
        "    \"https://storage.googleapis.com/gg-raggle-public/competitions/29676d73-5675-4278-b1a6-d4a9fdd0a0ba/dataset/Content_Production_Service_Contract_(Request_Form).pdf\",\n",
        "    \"https://storage.googleapis.com/gg-raggle-public/competitions/29676d73-5675-4278-b1a6-d4a9fdd0a0ba/dataset/Customer_Referral_Contract.pdf\",\n",
        "    \"https://storage.googleapis.com/gg-raggle-public/competitions/29676d73-5675-4278-b1a6-d4a9fdd0a0ba/dataset/Draft_Editing_Service_Contract.pdf\",\n",
        "    \"https://storage.googleapis.com/gg-raggle-public/competitions/29676d73-5675-4278-b1a6-d4a9fdd0a0ba/dataset/Graphic_Design_Production_Service_Contract.pdf\",\n",
        "    \"https://storage.googleapis.com/gg-raggle-public/competitions/29676d73-5675-4278-b1a6-d4a9fdd0a0ba/dataset/M&A_Advisory_Service_Contract_(Preparatory_Committee).pdf\",\n",
        "    \"https://storage.googleapis.com/gg-raggle-public/competitions/29676d73-5675-4278-b1a6-d4a9fdd0a0ba/dataset/M&A_Intermediary_Service_Contract_SME_M&A_[Small_and_Medium_Enterprises].pdf\",\n",
        "    \"https://storage.googleapis.com/gg-raggle-public/competitions/29676d73-5675-4278-b1a6-d4a9fdd0a0ba/dataset/Manufacturing_Sales_Post-Safety_Management_Contract.pdf\",\n",
        "    \"https://storage.googleapis.com/gg-raggle-public/competitions/29676d73-5675-4278-b1a6-d4a9fdd0a0ba/dataset/software_development_outsourcing_contracts.pdf\",\n",
        "    \"https://storage.googleapis.com/gg-raggle-public/competitions/29676d73-5675-4278-b1a6-d4a9fdd0a0ba/dataset/Technical_Verification_(PoC)_Contract.pdf\",\n",
        "]"
      ]
    },
    {
      "cell_type": "markdown",
      "metadata": {
        "id": "WOVraYQ75XUa"
      },
      "source": [
        "### Load Data\n",
        "- urlリストからPDFファイルをダウンロードし、Documentオブジェクトのリストとして読み込む\n",
        "\n",
        "```python\n",
        "def download_and_load_pdfs(urls: list) -> list\n",
        "    ...\n",
        "```"
      ]
    },
    {
      "cell_type": "code",
      "execution_count": 4,
      "metadata": {
        "id": "OPlSeR4S5XUa"
      },
      "outputs": [],
      "source": [
        "def download_and_load_pdfs(urls: list) -> list:\n",
        "    \"\"\"\n",
        "    PDFファイルをダウンロードして読み込む関数\n",
        "\n",
        "    Args:\n",
        "        urls (list): PDFファイルのURLリスト\n",
        "\n",
        "    Returns:\n",
        "        documents (list): PDFファイルのテキストデータを含むDocumentオブジェクトのリスト\n",
        "\n",
        "    Raises:\n",
        "        Exception: ダウンロードまたは読み込みに失敗した場合に発生する例外\n",
        "\n",
        "    Examples:\n",
        "        >>> urls = [\"https://example.com/example.pdf\"]\n",
        "        >>> download_and_load_pdfs(urls)\n",
        "        [Document(page_content=\"...\", metadata={\"source\": \"https://example.com/example.pdf\"})]\n",
        "    \"\"\"\n",
        "    try:\n",
        "        def download_pdf(url, save_path):\n",
        "            response = requests.get(url)\n",
        "            if response.status_code == 200:\n",
        "                with open(save_path, 'wb') as f:\n",
        "                    f.write(response.content)\n",
        "            else:\n",
        "                raise Exception(f\"Failed to download {url}\")\n",
        "        documents = []\n",
        "\n",
        "        for i, url in enumerate(urls):\n",
        "            tmp_path = f\"pdf_{i}.pdf\"\n",
        "            download_pdf(url, tmp_path)\n",
        "\n",
        "            with pdfplumber.open(tmp_path) as pdf:\n",
        "                full_text = \"\"\n",
        "                for page in pdf.pages:\n",
        "                    text = page.extract_text()\n",
        "                    if text:\n",
        "                        full_text += text + \"\\n\"\n",
        "\n",
        "                documents.append(\n",
        "                    Document(\n",
        "                        page_content=full_text,\n",
        "                        metadata={\"source\": url}\n",
        "                    )\n",
        "                )\n",
        "        return documents\n",
        "    except Exception as e:\n",
        "        raise Exception(f\"Error reading {url}: {e}\")"
      ]
    },
    {
      "cell_type": "markdown",
      "metadata": {
        "id": "kLL4Rrzv5XUb"
      },
      "source": [
        "### vector store\n",
        "- 読み込んだデータに対して、ベクトル検索をするためにインデックス化を行う\n",
        "\n",
        "```python\n",
        "def create_vectorstore(docs: list, embeddings) -> Chroma\n",
        "    ...\n",
        "```"
      ]
    },
    {
      "cell_type": "code",
      "execution_count": 5,
      "metadata": {
        "id": "3SIJgGCZ5XUb"
      },
      "outputs": [],
      "source": [
        "def create_vectorstore(docs: list, embeddings) -> Chroma:\n",
        "    \"\"\"\n",
        "    テキストデータからベクトルストアを生成する関数\n",
        "\n",
        "    Args:\n",
        "        docs (list): Documentオブジェクトのリスト\n",
        "\n",
        "    Returns:\n",
        "        vectorstore (Chroma): ベクトルストア\n",
        "\n",
        "    Raises:\n",
        "        Exception: ベクトルストアの生成に失敗した場合に発生する例外\n",
        "\n",
        "    Examples:\n",
        "        >>> docs = [Document(page_content=\"...\", metadata={\"source\": \"https://example.com/example.pdf\"})]\n",
        "        >>> create_vectorstore(docs)\n",
        "        Chroma(...)\n",
        "    \"\"\"\n",
        "    try:\n",
        "        text_splitter = CharacterTextSplitter(\n",
        "            separator=\"\\n\",\n",
        "            chunk_size=1000,\n",
        "        )\n",
        "        splitted_docs = []\n",
        "        for doc in docs:\n",
        "            chunks = text_splitter.split_text(doc.page_content)\n",
        "            for chunk in chunks:\n",
        "                splitted_docs.append(Document(page_content=chunk, metadata=doc.metadata))\n",
        "\n",
        "        vectorstore = Chroma.from_documents(\n",
        "            splitted_docs,\n",
        "            embeddings,\n",
        "        )\n",
        "        return vectorstore\n",
        "    except Exception as e:\n",
        "        raise Exception(f\"Error creating vectorstore: {e}\")"
      ]
    },
    {
      "cell_type": "markdown",
      "metadata": {
        "id": "idJ4dEWC5XUb"
      },
      "source": [
        "### Pipeline"
      ]
    },
    {
      "cell_type": "code",
      "execution_count": 6,
      "metadata": {
        "id": "UpGWgFtY5XUb"
      },
      "outputs": [],
      "source": [
        "def rag_implementation(question: str, chat, embeddings) -> str:\n",
        "    # 4. データの読み込み\n",
        "    docs = download_and_load_pdfs(pdf_file_urls)\n",
        "\n",
        "    # 5. データのインデックス化\n",
        "    db = create_vectorstore(docs, embeddings)\n",
        "\n",
        "    # 6. 質問に対する類似情報の検索\n",
        "    retriever = db.as_retriever()\n",
        "\n",
        "    ### 7. 回答の生成\n",
        "    template = \"\"\"\n",
        "    # ゴール\n",
        "    私は、参考文章と質問を提供します。\n",
        "    あなたは、参考文章に基づいて、質問に対する回答を生成してください。\n",
        "\n",
        "    # 質問\n",
        "    {question}\n",
        "\n",
        "    # 参考文章\n",
        "    {context}\n",
        "    \"\"\"\n",
        "    prompt = ChatPromptTemplate.from_template(template)\n",
        "    output_parser = StrOutputParser()\n",
        "    setup_and_retrieval = RunnableParallel(\n",
        "        {\"context\": retriever, \"question\": RunnablePassthrough()}\n",
        "    )\n",
        "\n",
        "    chain = setup_and_retrieval | prompt | chat | output_parser\n",
        "    answer = chain.invoke(question)\n",
        "    return answer"
      ]
    },
    {
      "cell_type": "markdown",
      "metadata": {
        "id": "BqigvSV35XUb"
      },
      "source": [
        "---\n",
        "## TEST"
      ]
    },
    {
      "cell_type": "markdown",
      "metadata": {
        "id": "lgLHNK9p8CaK"
      },
      "source": [
        "### Test Parameters\n",
        "\n",
        "```python\n",
        "MockChatModel(Runnable): class\n",
        "llm: dict\n",
        "sample_questions: list\n",
        "```"
      ]
    },
    {
      "cell_type": "code",
      "execution_count": 7,
      "metadata": {
        "id": "wLqDGKV66L_U"
      },
      "outputs": [],
      "source": [
        "from langchain.schema.runnable import Runnable\n",
        "from langchain_community.embeddings import FakeEmbeddings\n",
        "\n",
        "class MockChatModel(Runnable):\n",
        "    \"\"\"ChatOpenAIのモックモデル\"\"\"\n",
        "    def invoke(self, context, config=None, **kwargs):\n",
        "        return f\"Processed: {context}\"\n",
        "\n",
        "llm = {\n",
        "    \"openai\": (\n",
        "        ChatOpenAI(model=model, temperature=0.0),\n",
        "        OpenAIEmbeddings()\n",
        "    ),\n",
        "    \"mock\": (\n",
        "        MockChatModel(),\n",
        "        FakeEmbeddings(size=2048)\n",
        "    )\n",
        "}\n",
        "sample_questions = [\n",
        "    \"ソフトウェア開発業務委託契約について、委託料の金額はいくらですか？\",\n",
        "    \"グラフィックデザイン制作業務委託契約について、受託者はいつまでに仕様書を作成して委託者の承諾を得る必要がありますか？\",\n",
        "    \"コールセンター業務委託契約における請求書の発行プロセスについて、締め日と発行期限を具体的に説明してください。\"\n",
        "]"
      ]
    },
    {
      "cell_type": "markdown",
      "metadata": {
        "id": "Xg3xQASC8UnB"
      },
      "source": [
        "### Test Run"
      ]
    },
    {
      "cell_type": "code",
      "execution_count": 8,
      "metadata": {
        "colab": {
          "base_uri": "https://localhost:8080/"
        },
        "id": "PnBFxUyy-nHg",
        "outputId": "c23931ce-8cb1-4ac3-a609-d1b1b2564f52"
      },
      "outputs": [
        {
          "name": "stdout",
          "output_type": "stream",
          "text": [
            "len(pdf_file_urls)=12\n",
            "len(docs)=12\n",
            "doc.page_content=[\n",
            "  7748,  6974,  6888,  6426,\n",
            "  5903,  6372,  5023,  7418,\n",
            "  4079,  7011,  8275,  7010,\n",
            "]\n"
          ]
        }
      ],
      "source": [
        "# pdfがきちんと読み込めているか確認\n",
        "docs = download_and_load_pdfs(pdf_file_urls)\n",
        "\n",
        "# len(urls)==len(docs)か確認\n",
        "print(f\"{len(pdf_file_urls)=}\")\n",
        "print(f\"{len(docs)=}\")\n",
        "\n",
        "# doc.page_content が不自然に少ないものはないか確認\n",
        "print(\"doc.page_content=[\")\n",
        "for i, doc in enumerate(docs):\n",
        "    print(\"  \", end=\"\")\n",
        "    print(len(doc.page_content), end=\",\")\n",
        "    if (i+1)%4 == 0:\n",
        "        print()\n",
        "print(\"]\")"
      ]
    },
    {
      "cell_type": "code",
      "execution_count": 9,
      "metadata": {
        "colab": {
          "base_uri": "https://localhost:8080/"
        },
        "id": "kxTV81p95XUc",
        "outputId": "62e28c4a-6874-4bd8-f38a-f12fb691c125"
      },
      "outputs": [
        {
          "name": "stdout",
          "output_type": "stream",
          "text": [
            "Processed: messages=[HumanMessage(content=\"\\n    # ゴール\\n    私は、参考文章と質問を提供します。\\n    あなたは、参考文章に基づいて、質問に対する回答を生成してください。\\n\\n    # 質問\\n    存在意義（パーパス）は、なんですか？\\n\\n    # 参考文章\\n    [Document(id='ed2b808c-b924-4739-838c-01fe3528ba9e', metadata={'source': 'https://storage.googleapis.com/gg-raggle-public/competitions/29676d73-5675-4278-b1a6-d4a9fdd0a0ba/dataset/Graphic_Design_Production_Service_Contract.pdf'}, page_content='を受け、若しくはこれらの申立を行ったとき、又は私的整理の開始があったとき。\\\\n(7) 支払停止、支払不能に陥ったとき。\\\\n(8) 自ら振出し又は裏書した手形・小切手が一度でも不渡りとなったとき。\\\\n(9) 資本減少、主要な株主又は取締役の変更、事業譲渡、合併、会社分割等の組織再\\\\n編その他の会社の支配に重要な影響を及ぼす事実が生じたとき。\\\\n(10) 公序良俗に反する行為、その他相手方の信用、名誉を毀損する等の背信的行為が\\\\nあったとき。\\\\n(11) 解散し、又は事業を廃止したとき。\\\\n(12) 信用の失墜又はその資産の重大な変動等により、当事者間の信頼関係が損なわれ、\\\\n本契約の継続が困難であると認める事態が発生したとき。\\\\n(13) 代表者が刑事上の訴追を受けたとき、又はその所在が不明になったとき。\\\\n(14) 監督官庁から事業停止処分、又は事業免許若しくは事業登録の取消処分を受けた\\\\nとき。\\\\n(15) その他本契約等を継続し難い重大な事由が生じたとき。\\\\n2. 前項に定める解除は、相手方に対する損害賠償の請求を妨げない。\\\\n第 11 条 （反社会的勢力の排除）\\\\n1. 委託者及び受託者は、現在、暴力団、暴力団員、暴力団員でなくなった時から 5 年を\\\\n経過しない者、暴力団準構成員、暴力団関係企業、総会屋等、社会運動等標ぼうゴロ\\\\n又は特殊知能暴力集団等、その他これらに準ずる者（以下「反社会的勢力」とい\\\\nう。）に該当しないこと、及び次の各号のいずれにも該当しないことを表明し、かつ\\\\n将来にわたっても該当しないことを確約する。\\\\n(1) 反社会的勢力が経営を支配していると認められる関係を有すること。\\\\n(2) 反社会的勢力が経営に実質的に関与していると認められる関係を有すること。\\\\n(3) 自己、自社若しくは第三者の不正の利益を図る目的又は第三者に損害を加える目\\\\n的をもってする等、不当に反社会的勢力を利用していると認められる関係を有す\\\\nること。\\\\n(4) 反社会的勢力に対して資金等を提供し、又は便宜を供与する等の関与をしている\\\\nと認められる関係を有すること。\\\\n(5) 役員又は経営に実質的に関与している者が反社会的勢力と社会的に非難されるべ\\\\nき関係を有すること。\\\\n2. 委託者及び受託者は、自ら又は第三者を利用して次の各号のいずれかに該当する行為\\\\nを行わないことを確約する。\\\\n(1) 暴力的な要求行為'), Document(id='5b226f40-b467-4b7f-9620-f9548ae0e37b', metadata={'source': 'https://storage.googleapis.com/gg-raggle-public/competitions/29676d73-5675-4278-b1a6-d4a9fdd0a0ba/dataset/Customer_Referral_Contract.pdf'}, page_content='(12) 信用の失墜又はその資産の重大な変動等により、委託者受託者間の信頼関係が損\\\\nなわれ、本契約の継続が困難であると認める事態が発生したとき。\\\\n(13) 代表者が刑事上の訴追を受けたとき、又はその所在が不明になったとき。\\\\n(14) 監督官庁から事業停止処分、又は事業免許若しくは事業登録の取消処分を受けた\\\\nとき。\\\\n(15) その他本契約等を継続し難い重大な事由が生じたとき。\\\\n3. 前二項に定める解除は、相手方に対する損害賠償の請求を妨げない。\\\\n4\\\\n第 14 条 （本契約上の地位等の譲渡禁止）\\\\n委託者及び受託者は、相手方の書面による事前の承諾なく、本契約上の地位又は本契約に\\\\n基づく権利若しくは義務の全部又は一部を、第三者に譲渡若しくは継承させ、又は担保に\\\\n供してはならない。\\\\n第 15 条 （反社会的勢力の排除）\\\\n1. 委託者及び受託者は、相手方に対し、次の各号のいずれにも該当せず、かつ将来にわ\\\\nたっても該当しないことを表明し、保証する。\\\\n(1) 自ら又は自らの役員若しくは自らの経営に実質的に関与している者が、暴力団、\\\\n暴力団員、暴力団員でなくなった時から 5 年を経過しない者、暴力団準構成員、\\\\n暴力団関係企業、総会屋、社会運動等標ぼうゴロ又は特殊知能暴力集団等その他\\\\n反社会的勢力（以下総称して「反社会的勢力」という。）であること。\\\\n(2) 反社会的勢力が経営を支配していると認められる関係を有すること。\\\\n(3) 反社会的勢力が経営に実質的に関与していると認められる関係を有すること。\\\\n(4) 自ら若しくは第三者の不正の利益を図る目的又は第三者に損害を加える目的をも\\\\nってする等、反社会的勢力を利用していると認められる関係を有すること。\\\\n(5) 反社会的勢力に対して資金等を提供し、又は便宜を供与する等の関与をしている\\\\nと認められる関係を有すること。\\\\n(6) 自らの役員又は自らの経営に実質的に関与している者が、反社会的勢力と社会的\\\\nに非難されるべき関係を有すること。\\\\n2. 委託者及び受託者は、相手方に対し、自ら次の各号のいずれかに該当する行為を行わ\\\\nず、又は第三者を利用してかかる行為を行わせないことを確約する。\\\\n(1) 暴力的又は脅迫的な言動を用いる不当な要求行為\\\\n(2) 相手方の名誉や信用等を毀損する行為\\\\n(3) 偽計又は威力を用いて相手方の業務を妨害する行為'), Document(id='75aa6f9f-cd7c-4c6e-966e-3b024a2a7e27', metadata={'source': 'https://storage.googleapis.com/gg-raggle-public/competitions/29676d73-5675-4278-b1a6-d4a9fdd0a0ba/dataset/M&A_Advisory_Service_Contract_(Preparatory_Committee).pdf'}, page_content='報の保護）、第 12 条（免責）、第 13 条（損害賠償責任）、第 17 条（協議）、第 18 条\\\\n（合意管轄）及び本条（存続条項）は有効に存続する。\\\\n（以下余白）\\\\n本契約の成立を証するため、本書2通を作成し、本契約当事者双方記名押印の上各1通を\\\\n保有する。\\\\n2024年9月1日\\\\n（委託者）\\\\n住 所 東京都凍川市月影町9-23-14\\\\n会社名 株式会社カナシミコルド\\\\n代表者 雪舞 果三丸\\\\n（受託者）\\\\n住 所 大阪府無限区虚無町1-8-7\\\\n会社名 株式会社サイレントスターリング\\\\n代表者 星雲 宙虎\\\\n6'), Document(id='218b24ab-6a3b-4ac4-bce0-042fc5657e27', metadata={'source': 'https://storage.googleapis.com/gg-raggle-public/competitions/29676d73-5675-4278-b1a6-d4a9fdd0a0ba/dataset/Architectural_Design_Service_Contract.pdf'}, page_content='(1) 本契約等に定める条項につき重大な違反があったとき。\\\\n(2) 債務の全部又は一部の履行が不能であるとき又は相手方がその債務の全部又は一\\\\n部の履行を拒絶する意思を明確に表示したとき。ただし、一部の履行不能の場合\\\\nは当該一部に限る。\\\\n(3) 債務の一部の履行が不能である場合又は相手方がその債務の一部の履行を拒絶す\\\\nる意思を明確に表示した場合において、残存する部分のみでは契約をした目的を\\\\n達することができないとき。\\\\n(4) 本契約上、特定の日時又は一定の期間内に履行をしなければ本契約の目的を達す\\\\nることができない場合において、相手方が履行をしないでその時期を経過したと\\\\nき。\\\\n4\\\\n(5) 差押え、仮差押え、仮処分、強制執行、競売、滞納処分の申立、その他公権力の\\\\n処分を受けたとき。\\\\n(6) 破産手続開始、民事再生手続開始、会社更生手続開始その他法的倒産手続の申立\\\\nを受け、若しくはこれらの申立を行ったとき、又は私的整理の開始があったとき。\\\\n(7) 支払停止、支払不能に陥ったとき。\\\\n(8) 自ら振出し又は裏書した手形・小切手が1度でも不渡りとなったとき。\\\\n(9) 資本減少、主要な株主又は取締役の変更、事業譲渡、合併、会社分割等の組織再\\\\n編その他の会社の支配に重要な影響を及ぼす事実が生じたとき。\\\\n(10) 公序良俗に反する行為、その他相手方の信用、名誉を毀損する等の背信的行為が\\\\nあったとき。\\\\n(11) 解散し、又は事業を廃止したとき。\\\\n(12) 信用の失墜又はその資産の重大な変動等により、委託者受託者間の信頼関係が損\\\\nなわれ、本契約の継続が困難であると認める事態が発生したとき。\\\\n(13) 代表者が刑事上の訴追を受けたとき、又はその所在が不明になったとき。\\\\n(14) 監督官庁から事業停止処分、又は事業免許若しくは事業登録の取消処分を受けた\\\\nとき。\\\\n(15) その他本契約等を継続し難い重大な事由が生じたとき。\\\\n3. 前二項に定める解除は、相手方に対する損害賠償の請求を妨げない。\\\\n第 17 条 （期限の利益の喪失）\\\\n当事者の一方に前条第2項各号のいずれかに該当する事由が発生した場合、相手方からの\\\\n何らの通知催告がなくとも、相手方に対する一切の債務について当然に期限の利益を喪失\\\\nし、直ちに相手方に弁済しなければならない。\\\\n第 18 条 （権利義務の譲渡禁止）')]\\n    \", additional_kwargs={}, response_metadata={})]\n"
          ]
        }
      ],
      "source": [
        "question = sample_questions[0]\n",
        "chat = llm[\"mock\"][0]\n",
        "embeddings = llm[\"mock\"][1]\n",
        "\n",
        "result = rag_implementation(question, chat, embeddings)\n",
        "print(result)"
      ]
    }
  ],
  "metadata": {
    "colab": {
      "collapsed_sections": [
        "gJIoqXPc8buK",
        "Se6QSytU5XUZ",
        "WOVraYQ75XUa",
        "kLL4Rrzv5XUb",
        "idJ4dEWC5XUb",
        "lgLHNK9p8CaK"
      ],
      "provenance": []
    },
    "kernelspec": {
      "display_name": "Python 3",
      "name": "python3"
    },
    "language_info": {
      "name": "python"
    }
  },
  "nbformat": 4,
  "nbformat_minor": 0
}
